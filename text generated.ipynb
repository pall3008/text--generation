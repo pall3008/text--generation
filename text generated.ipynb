{
 "cells": [
  {
   "cell_type": "code",
   "execution_count": null,
   "id": "e7d010e6-0610-44b2-8a0d-56d85a9b33bf",
   "metadata": {},
   "outputs": [],
   "source": []
  },
  {
   "cell_type": "code",
   "execution_count": null,
   "id": "100e8505-0c7e-483c-ab25-8e6c157ab442",
   "metadata": {},
   "outputs": [],
   "source": []
  },
  {
   "cell_type": "code",
   "execution_count": 7,
   "id": "7404574e-cf6c-4e6b-890c-9eb21cf3feb5",
   "metadata": {},
   "outputs": [
    {
     "name": "stdout",
     "output_type": "stream",
     "text": [
      "Requirement already satisfied: huggingface_hub in c:\\users\\pallvi saini\\.conda\\envs\\testingopenai\\lib\\site-packages (0.27.1)\n",
      "Requirement already satisfied: filelock in c:\\users\\pallvi saini\\.conda\\envs\\testingopenai\\lib\\site-packages (from huggingface_hub) (3.16.1)\n",
      "Requirement already satisfied: fsspec>=2023.5.0 in c:\\users\\pallvi saini\\.conda\\envs\\testingopenai\\lib\\site-packages (from huggingface_hub) (2024.12.0)\n",
      "Requirement already satisfied: packaging>=20.9 in c:\\users\\pallvi saini\\.conda\\envs\\testingopenai\\lib\\site-packages (from huggingface_hub) (24.2)\n",
      "Requirement already satisfied: pyyaml>=5.1 in c:\\users\\pallvi saini\\.conda\\envs\\testingopenai\\lib\\site-packages (from huggingface_hub) (6.0.2)\n",
      "Requirement already satisfied: requests in c:\\users\\pallvi saini\\.conda\\envs\\testingopenai\\lib\\site-packages (from huggingface_hub) (2.32.3)\n",
      "Requirement already satisfied: tqdm>=4.42.1 in c:\\users\\pallvi saini\\.conda\\envs\\testingopenai\\lib\\site-packages (from huggingface_hub) (4.67.1)\n",
      "Requirement already satisfied: typing-extensions>=3.7.4.3 in c:\\users\\pallvi saini\\.conda\\envs\\testingopenai\\lib\\site-packages (from huggingface_hub) (4.12.2)\n",
      "Requirement already satisfied: colorama in c:\\users\\pallvi saini\\.conda\\envs\\testingopenai\\lib\\site-packages (from tqdm>=4.42.1->huggingface_hub) (0.4.6)\n",
      "Requirement already satisfied: charset-normalizer<4,>=2 in c:\\users\\pallvi saini\\.conda\\envs\\testingopenai\\lib\\site-packages (from requests->huggingface_hub) (3.4.1)\n",
      "Requirement already satisfied: idna<4,>=2.5 in c:\\users\\pallvi saini\\.conda\\envs\\testingopenai\\lib\\site-packages (from requests->huggingface_hub) (3.10)\n",
      "Requirement already satisfied: urllib3<3,>=1.21.1 in c:\\users\\pallvi saini\\.conda\\envs\\testingopenai\\lib\\site-packages (from requests->huggingface_hub) (2.3.0)\n",
      "Requirement already satisfied: certifi>=2017.4.17 in c:\\users\\pallvi saini\\.conda\\envs\\testingopenai\\lib\\site-packages (from requests->huggingface_hub) (2024.12.14)\n",
      "Requirement already satisfied: transformers in c:\\users\\pallvi saini\\.conda\\envs\\testingopenai\\lib\\site-packages (4.47.1)\n",
      "Requirement already satisfied: filelock in c:\\users\\pallvi saini\\.conda\\envs\\testingopenai\\lib\\site-packages (from transformers) (3.16.1)\n",
      "Requirement already satisfied: huggingface-hub<1.0,>=0.24.0 in c:\\users\\pallvi saini\\.conda\\envs\\testingopenai\\lib\\site-packages (from transformers) (0.27.1)\n",
      "Requirement already satisfied: numpy>=1.17 in c:\\users\\pallvi saini\\.conda\\envs\\testingopenai\\lib\\site-packages (from transformers) (1.26.4)\n",
      "Requirement already satisfied: packaging>=20.0 in c:\\users\\pallvi saini\\.conda\\envs\\testingopenai\\lib\\site-packages (from transformers) (24.2)\n",
      "Requirement already satisfied: pyyaml>=5.1 in c:\\users\\pallvi saini\\.conda\\envs\\testingopenai\\lib\\site-packages (from transformers) (6.0.2)\n",
      "Requirement already satisfied: regex!=2019.12.17 in c:\\users\\pallvi saini\\.conda\\envs\\testingopenai\\lib\\site-packages (from transformers) (2024.11.6)\n",
      "Requirement already satisfied: requests in c:\\users\\pallvi saini\\.conda\\envs\\testingopenai\\lib\\site-packages (from transformers) (2.32.3)\n",
      "Requirement already satisfied: tokenizers<0.22,>=0.21 in c:\\users\\pallvi saini\\.conda\\envs\\testingopenai\\lib\\site-packages (from transformers) (0.21.0)\n",
      "Requirement already satisfied: safetensors>=0.4.1 in c:\\users\\pallvi saini\\.conda\\envs\\testingopenai\\lib\\site-packages (from transformers) (0.5.0)\n",
      "Requirement already satisfied: tqdm>=4.27 in c:\\users\\pallvi saini\\.conda\\envs\\testingopenai\\lib\\site-packages (from transformers) (4.67.1)\n",
      "Requirement already satisfied: fsspec>=2023.5.0 in c:\\users\\pallvi saini\\.conda\\envs\\testingopenai\\lib\\site-packages (from huggingface-hub<1.0,>=0.24.0->transformers) (2024.12.0)\n",
      "Requirement already satisfied: typing-extensions>=3.7.4.3 in c:\\users\\pallvi saini\\.conda\\envs\\testingopenai\\lib\\site-packages (from huggingface-hub<1.0,>=0.24.0->transformers) (4.12.2)\n",
      "Requirement already satisfied: colorama in c:\\users\\pallvi saini\\.conda\\envs\\testingopenai\\lib\\site-packages (from tqdm>=4.27->transformers) (0.4.6)\n",
      "Requirement already satisfied: charset-normalizer<4,>=2 in c:\\users\\pallvi saini\\.conda\\envs\\testingopenai\\lib\\site-packages (from requests->transformers) (3.4.1)\n",
      "Requirement already satisfied: idna<4,>=2.5 in c:\\users\\pallvi saini\\.conda\\envs\\testingopenai\\lib\\site-packages (from requests->transformers) (3.10)\n",
      "Requirement already satisfied: urllib3<3,>=1.21.1 in c:\\users\\pallvi saini\\.conda\\envs\\testingopenai\\lib\\site-packages (from requests->transformers) (2.3.0)\n",
      "Requirement already satisfied: certifi>=2017.4.17 in c:\\users\\pallvi saini\\.conda\\envs\\testingopenai\\lib\\site-packages (from requests->transformers) (2024.12.14)\n",
      "Requirement already satisfied: accelerate in c:\\users\\pallvi saini\\.conda\\envs\\testingopenai\\lib\\site-packages (1.2.1)\n",
      "Requirement already satisfied: numpy<3.0.0,>=1.17 in c:\\users\\pallvi saini\\.conda\\envs\\testingopenai\\lib\\site-packages (from accelerate) (1.26.4)\n",
      "Requirement already satisfied: packaging>=20.0 in c:\\users\\pallvi saini\\.conda\\envs\\testingopenai\\lib\\site-packages (from accelerate) (24.2)\n",
      "Requirement already satisfied: psutil in c:\\users\\pallvi saini\\.conda\\envs\\testingopenai\\lib\\site-packages (from accelerate) (6.1.1)\n",
      "Requirement already satisfied: pyyaml in c:\\users\\pallvi saini\\.conda\\envs\\testingopenai\\lib\\site-packages (from accelerate) (6.0.2)\n",
      "Requirement already satisfied: torch>=1.10.0 in c:\\users\\pallvi saini\\.conda\\envs\\testingopenai\\lib\\site-packages (from accelerate) (2.5.1)\n",
      "Requirement already satisfied: huggingface-hub>=0.21.0 in c:\\users\\pallvi saini\\.conda\\envs\\testingopenai\\lib\\site-packages (from accelerate) (0.27.1)\n",
      "Requirement already satisfied: safetensors>=0.4.3 in c:\\users\\pallvi saini\\.conda\\envs\\testingopenai\\lib\\site-packages (from accelerate) (0.5.0)\n",
      "Requirement already satisfied: filelock in c:\\users\\pallvi saini\\.conda\\envs\\testingopenai\\lib\\site-packages (from huggingface-hub>=0.21.0->accelerate) (3.16.1)\n",
      "Requirement already satisfied: fsspec>=2023.5.0 in c:\\users\\pallvi saini\\.conda\\envs\\testingopenai\\lib\\site-packages (from huggingface-hub>=0.21.0->accelerate) (2024.12.0)\n",
      "Requirement already satisfied: requests in c:\\users\\pallvi saini\\.conda\\envs\\testingopenai\\lib\\site-packages (from huggingface-hub>=0.21.0->accelerate) (2.32.3)\n",
      "Requirement already satisfied: tqdm>=4.42.1 in c:\\users\\pallvi saini\\.conda\\envs\\testingopenai\\lib\\site-packages (from huggingface-hub>=0.21.0->accelerate) (4.67.1)\n",
      "Requirement already satisfied: typing-extensions>=3.7.4.3 in c:\\users\\pallvi saini\\.conda\\envs\\testingopenai\\lib\\site-packages (from huggingface-hub>=0.21.0->accelerate) (4.12.2)\n",
      "Requirement already satisfied: networkx in c:\\users\\pallvi saini\\.conda\\envs\\testingopenai\\lib\\site-packages (from torch>=1.10.0->accelerate) (3.4.2)\n",
      "Requirement already satisfied: jinja2 in c:\\users\\pallvi saini\\.conda\\envs\\testingopenai\\lib\\site-packages (from torch>=1.10.0->accelerate) (3.1.5)\n",
      "Requirement already satisfied: sympy==1.13.1 in c:\\users\\pallvi saini\\.conda\\envs\\testingopenai\\lib\\site-packages (from torch>=1.10.0->accelerate) (1.13.1)\n",
      "Requirement already satisfied: mpmath<1.4,>=1.1.0 in c:\\users\\pallvi saini\\.conda\\envs\\testingopenai\\lib\\site-packages (from sympy==1.13.1->torch>=1.10.0->accelerate) (1.3.0)\n",
      "Requirement already satisfied: colorama in c:\\users\\pallvi saini\\.conda\\envs\\testingopenai\\lib\\site-packages (from tqdm>=4.42.1->huggingface-hub>=0.21.0->accelerate) (0.4.6)\n",
      "Requirement already satisfied: MarkupSafe>=2.0 in c:\\users\\pallvi saini\\.conda\\envs\\testingopenai\\lib\\site-packages (from jinja2->torch>=1.10.0->accelerate) (3.0.2)\n",
      "Requirement already satisfied: charset-normalizer<4,>=2 in c:\\users\\pallvi saini\\.conda\\envs\\testingopenai\\lib\\site-packages (from requests->huggingface-hub>=0.21.0->accelerate) (3.4.1)\n",
      "Requirement already satisfied: idna<4,>=2.5 in c:\\users\\pallvi saini\\.conda\\envs\\testingopenai\\lib\\site-packages (from requests->huggingface-hub>=0.21.0->accelerate) (3.10)\n",
      "Requirement already satisfied: urllib3<3,>=1.21.1 in c:\\users\\pallvi saini\\.conda\\envs\\testingopenai\\lib\\site-packages (from requests->huggingface-hub>=0.21.0->accelerate) (2.3.0)\n",
      "Requirement already satisfied: certifi>=2017.4.17 in c:\\users\\pallvi saini\\.conda\\envs\\testingopenai\\lib\\site-packages (from requests->huggingface-hub>=0.21.0->accelerate) (2024.12.14)\n",
      "Requirement already satisfied: bitsandbytes in c:\\users\\pallvi saini\\.conda\\envs\\testingopenai\\lib\\site-packages (0.45.0)\n",
      "Requirement already satisfied: torch in c:\\users\\pallvi saini\\.conda\\envs\\testingopenai\\lib\\site-packages (from bitsandbytes) (2.5.1)\n",
      "Requirement already satisfied: numpy in c:\\users\\pallvi saini\\.conda\\envs\\testingopenai\\lib\\site-packages (from bitsandbytes) (1.26.4)\n",
      "Requirement already satisfied: typing_extensions>=4.8.0 in c:\\users\\pallvi saini\\.conda\\envs\\testingopenai\\lib\\site-packages (from bitsandbytes) (4.12.2)\n",
      "Requirement already satisfied: filelock in c:\\users\\pallvi saini\\.conda\\envs\\testingopenai\\lib\\site-packages (from torch->bitsandbytes) (3.16.1)\n",
      "Requirement already satisfied: networkx in c:\\users\\pallvi saini\\.conda\\envs\\testingopenai\\lib\\site-packages (from torch->bitsandbytes) (3.4.2)\n",
      "Requirement already satisfied: jinja2 in c:\\users\\pallvi saini\\.conda\\envs\\testingopenai\\lib\\site-packages (from torch->bitsandbytes) (3.1.5)\n",
      "Requirement already satisfied: fsspec in c:\\users\\pallvi saini\\.conda\\envs\\testingopenai\\lib\\site-packages (from torch->bitsandbytes) (2024.12.0)\n",
      "Requirement already satisfied: sympy==1.13.1 in c:\\users\\pallvi saini\\.conda\\envs\\testingopenai\\lib\\site-packages (from torch->bitsandbytes) (1.13.1)\n",
      "Requirement already satisfied: mpmath<1.4,>=1.1.0 in c:\\users\\pallvi saini\\.conda\\envs\\testingopenai\\lib\\site-packages (from sympy==1.13.1->torch->bitsandbytes) (1.3.0)\n",
      "Requirement already satisfied: MarkupSafe>=2.0 in c:\\users\\pallvi saini\\.conda\\envs\\testingopenai\\lib\\site-packages (from jinja2->torch->bitsandbytes) (3.0.2)\n"
     ]
    }
   ],
   "source": [
    "!pip install huggingface_hub\n",
    "!pip install transformers\n",
    "!pip install accelerate\n",
    "!pip install bitsandbytes\n"
   ]
  },
  {
   "cell_type": "code",
   "execution_count": 1,
   "id": "1b88aa23-1dca-4bdc-981a-06a445bc0d8e",
   "metadata": {},
   "outputs": [
    {
     "name": "stdout",
     "output_type": "stream",
     "text": [
      "Requirement already satisfied: huggingface_hub in c:\\users\\pallvi saini\\.conda\\envs\\testingopenai\\lib\\site-packages (0.27.1)\n",
      "Requirement already satisfied: filelock in c:\\users\\pallvi saini\\.conda\\envs\\testingopenai\\lib\\site-packages (from huggingface_hub) (3.16.1)\n",
      "Requirement already satisfied: fsspec>=2023.5.0 in c:\\users\\pallvi saini\\.conda\\envs\\testingopenai\\lib\\site-packages (from huggingface_hub) (2024.12.0)\n",
      "Requirement already satisfied: packaging>=20.9 in c:\\users\\pallvi saini\\.conda\\envs\\testingopenai\\lib\\site-packages (from huggingface_hub) (24.2)\n",
      "Requirement already satisfied: pyyaml>=5.1 in c:\\users\\pallvi saini\\.conda\\envs\\testingopenai\\lib\\site-packages (from huggingface_hub) (6.0.2)\n",
      "Requirement already satisfied: requests in c:\\users\\pallvi saini\\.conda\\envs\\testingopenai\\lib\\site-packages (from huggingface_hub) (2.32.3)\n",
      "Requirement already satisfied: tqdm>=4.42.1 in c:\\users\\pallvi saini\\.conda\\envs\\testingopenai\\lib\\site-packages (from huggingface_hub) (4.67.1)\n",
      "Requirement already satisfied: typing-extensions>=3.7.4.3 in c:\\users\\pallvi saini\\.conda\\envs\\testingopenai\\lib\\site-packages (from huggingface_hub) (4.12.2)\n",
      "Requirement already satisfied: colorama in c:\\users\\pallvi saini\\.conda\\envs\\testingopenai\\lib\\site-packages (from tqdm>=4.42.1->huggingface_hub) (0.4.6)\n",
      "Requirement already satisfied: charset-normalizer<4,>=2 in c:\\users\\pallvi saini\\.conda\\envs\\testingopenai\\lib\\site-packages (from requests->huggingface_hub) (3.4.1)\n",
      "Requirement already satisfied: idna<4,>=2.5 in c:\\users\\pallvi saini\\.conda\\envs\\testingopenai\\lib\\site-packages (from requests->huggingface_hub) (3.10)\n",
      "Requirement already satisfied: urllib3<3,>=1.21.1 in c:\\users\\pallvi saini\\.conda\\envs\\testingopenai\\lib\\site-packages (from requests->huggingface_hub) (2.3.0)\n",
      "Requirement already satisfied: certifi>=2017.4.17 in c:\\users\\pallvi saini\\.conda\\envs\\testingopenai\\lib\\site-packages (from requests->huggingface_hub) (2024.12.14)\n",
      "Requirement already satisfied: transformers in c:\\users\\pallvi saini\\.conda\\envs\\testingopenai\\lib\\site-packages (4.47.1)\n",
      "Requirement already satisfied: filelock in c:\\users\\pallvi saini\\.conda\\envs\\testingopenai\\lib\\site-packages (from transformers) (3.16.1)\n",
      "Requirement already satisfied: huggingface-hub<1.0,>=0.24.0 in c:\\users\\pallvi saini\\.conda\\envs\\testingopenai\\lib\\site-packages (from transformers) (0.27.1)\n",
      "Requirement already satisfied: numpy>=1.17 in c:\\users\\pallvi saini\\.conda\\envs\\testingopenai\\lib\\site-packages (from transformers) (1.26.4)\n",
      "Requirement already satisfied: packaging>=20.0 in c:\\users\\pallvi saini\\.conda\\envs\\testingopenai\\lib\\site-packages (from transformers) (24.2)\n",
      "Requirement already satisfied: pyyaml>=5.1 in c:\\users\\pallvi saini\\.conda\\envs\\testingopenai\\lib\\site-packages (from transformers) (6.0.2)\n",
      "Requirement already satisfied: regex!=2019.12.17 in c:\\users\\pallvi saini\\.conda\\envs\\testingopenai\\lib\\site-packages (from transformers) (2024.11.6)\n",
      "Requirement already satisfied: requests in c:\\users\\pallvi saini\\.conda\\envs\\testingopenai\\lib\\site-packages (from transformers) (2.32.3)\n",
      "Requirement already satisfied: tokenizers<0.22,>=0.21 in c:\\users\\pallvi saini\\.conda\\envs\\testingopenai\\lib\\site-packages (from transformers) (0.21.0)\n",
      "Requirement already satisfied: safetensors>=0.4.1 in c:\\users\\pallvi saini\\.conda\\envs\\testingopenai\\lib\\site-packages (from transformers) (0.5.0)\n",
      "Requirement already satisfied: tqdm>=4.27 in c:\\users\\pallvi saini\\.conda\\envs\\testingopenai\\lib\\site-packages (from transformers) (4.67.1)\n",
      "Requirement already satisfied: fsspec>=2023.5.0 in c:\\users\\pallvi saini\\.conda\\envs\\testingopenai\\lib\\site-packages (from huggingface-hub<1.0,>=0.24.0->transformers) (2024.12.0)\n",
      "Requirement already satisfied: typing-extensions>=3.7.4.3 in c:\\users\\pallvi saini\\.conda\\envs\\testingopenai\\lib\\site-packages (from huggingface-hub<1.0,>=0.24.0->transformers) (4.12.2)\n",
      "Requirement already satisfied: colorama in c:\\users\\pallvi saini\\.conda\\envs\\testingopenai\\lib\\site-packages (from tqdm>=4.27->transformers) (0.4.6)\n",
      "Requirement already satisfied: charset-normalizer<4,>=2 in c:\\users\\pallvi saini\\.conda\\envs\\testingopenai\\lib\\site-packages (from requests->transformers) (3.4.1)\n",
      "Requirement already satisfied: idna<4,>=2.5 in c:\\users\\pallvi saini\\.conda\\envs\\testingopenai\\lib\\site-packages (from requests->transformers) (3.10)\n",
      "Requirement already satisfied: urllib3<3,>=1.21.1 in c:\\users\\pallvi saini\\.conda\\envs\\testingopenai\\lib\\site-packages (from requests->transformers) (2.3.0)\n",
      "Requirement already satisfied: certifi>=2017.4.17 in c:\\users\\pallvi saini\\.conda\\envs\\testingopenai\\lib\\site-packages (from requests->transformers) (2024.12.14)\n",
      "Requirement already satisfied: accelerate in c:\\users\\pallvi saini\\.conda\\envs\\testingopenai\\lib\\site-packages (1.2.1)\n",
      "Requirement already satisfied: numpy<3.0.0,>=1.17 in c:\\users\\pallvi saini\\.conda\\envs\\testingopenai\\lib\\site-packages (from accelerate) (1.26.4)\n",
      "Requirement already satisfied: packaging>=20.0 in c:\\users\\pallvi saini\\.conda\\envs\\testingopenai\\lib\\site-packages (from accelerate) (24.2)\n",
      "Requirement already satisfied: psutil in c:\\users\\pallvi saini\\.conda\\envs\\testingopenai\\lib\\site-packages (from accelerate) (6.1.1)\n",
      "Requirement already satisfied: pyyaml in c:\\users\\pallvi saini\\.conda\\envs\\testingopenai\\lib\\site-packages (from accelerate) (6.0.2)\n",
      "Requirement already satisfied: torch>=1.10.0 in c:\\users\\pallvi saini\\.conda\\envs\\testingopenai\\lib\\site-packages (from accelerate) (2.5.1)\n",
      "Requirement already satisfied: huggingface-hub>=0.21.0 in c:\\users\\pallvi saini\\.conda\\envs\\testingopenai\\lib\\site-packages (from accelerate) (0.27.1)\n",
      "Requirement already satisfied: safetensors>=0.4.3 in c:\\users\\pallvi saini\\.conda\\envs\\testingopenai\\lib\\site-packages (from accelerate) (0.5.0)\n",
      "Requirement already satisfied: filelock in c:\\users\\pallvi saini\\.conda\\envs\\testingopenai\\lib\\site-packages (from huggingface-hub>=0.21.0->accelerate) (3.16.1)\n",
      "Requirement already satisfied: fsspec>=2023.5.0 in c:\\users\\pallvi saini\\.conda\\envs\\testingopenai\\lib\\site-packages (from huggingface-hub>=0.21.0->accelerate) (2024.12.0)\n",
      "Requirement already satisfied: requests in c:\\users\\pallvi saini\\.conda\\envs\\testingopenai\\lib\\site-packages (from huggingface-hub>=0.21.0->accelerate) (2.32.3)\n",
      "Requirement already satisfied: tqdm>=4.42.1 in c:\\users\\pallvi saini\\.conda\\envs\\testingopenai\\lib\\site-packages (from huggingface-hub>=0.21.0->accelerate) (4.67.1)\n",
      "Requirement already satisfied: typing-extensions>=3.7.4.3 in c:\\users\\pallvi saini\\.conda\\envs\\testingopenai\\lib\\site-packages (from huggingface-hub>=0.21.0->accelerate) (4.12.2)\n",
      "Requirement already satisfied: networkx in c:\\users\\pallvi saini\\.conda\\envs\\testingopenai\\lib\\site-packages (from torch>=1.10.0->accelerate) (3.4.2)\n",
      "Requirement already satisfied: jinja2 in c:\\users\\pallvi saini\\.conda\\envs\\testingopenai\\lib\\site-packages (from torch>=1.10.0->accelerate) (3.1.5)\n",
      "Requirement already satisfied: sympy==1.13.1 in c:\\users\\pallvi saini\\.conda\\envs\\testingopenai\\lib\\site-packages (from torch>=1.10.0->accelerate) (1.13.1)\n",
      "Requirement already satisfied: mpmath<1.4,>=1.1.0 in c:\\users\\pallvi saini\\.conda\\envs\\testingopenai\\lib\\site-packages (from sympy==1.13.1->torch>=1.10.0->accelerate) (1.3.0)\n",
      "Requirement already satisfied: colorama in c:\\users\\pallvi saini\\.conda\\envs\\testingopenai\\lib\\site-packages (from tqdm>=4.42.1->huggingface-hub>=0.21.0->accelerate) (0.4.6)\n",
      "Requirement already satisfied: MarkupSafe>=2.0 in c:\\users\\pallvi saini\\.conda\\envs\\testingopenai\\lib\\site-packages (from jinja2->torch>=1.10.0->accelerate) (3.0.2)\n",
      "Requirement already satisfied: charset-normalizer<4,>=2 in c:\\users\\pallvi saini\\.conda\\envs\\testingopenai\\lib\\site-packages (from requests->huggingface-hub>=0.21.0->accelerate) (3.4.1)\n",
      "Requirement already satisfied: idna<4,>=2.5 in c:\\users\\pallvi saini\\.conda\\envs\\testingopenai\\lib\\site-packages (from requests->huggingface-hub>=0.21.0->accelerate) (3.10)\n",
      "Requirement already satisfied: urllib3<3,>=1.21.1 in c:\\users\\pallvi saini\\.conda\\envs\\testingopenai\\lib\\site-packages (from requests->huggingface-hub>=0.21.0->accelerate) (2.3.0)\n",
      "Requirement already satisfied: certifi>=2017.4.17 in c:\\users\\pallvi saini\\.conda\\envs\\testingopenai\\lib\\site-packages (from requests->huggingface-hub>=0.21.0->accelerate) (2024.12.14)\n",
      "Requirement already satisfied: bitsandbytes in c:\\users\\pallvi saini\\.conda\\envs\\testingopenai\\lib\\site-packages (0.45.0)\n",
      "Requirement already satisfied: torch in c:\\users\\pallvi saini\\.conda\\envs\\testingopenai\\lib\\site-packages (from bitsandbytes) (2.5.1)\n",
      "Requirement already satisfied: numpy in c:\\users\\pallvi saini\\.conda\\envs\\testingopenai\\lib\\site-packages (from bitsandbytes) (1.26.4)\n",
      "Requirement already satisfied: typing_extensions>=4.8.0 in c:\\users\\pallvi saini\\.conda\\envs\\testingopenai\\lib\\site-packages (from bitsandbytes) (4.12.2)\n",
      "Requirement already satisfied: filelock in c:\\users\\pallvi saini\\.conda\\envs\\testingopenai\\lib\\site-packages (from torch->bitsandbytes) (3.16.1)\n",
      "Requirement already satisfied: networkx in c:\\users\\pallvi saini\\.conda\\envs\\testingopenai\\lib\\site-packages (from torch->bitsandbytes) (3.4.2)\n",
      "Requirement already satisfied: jinja2 in c:\\users\\pallvi saini\\.conda\\envs\\testingopenai\\lib\\site-packages (from torch->bitsandbytes) (3.1.5)\n",
      "Requirement already satisfied: fsspec in c:\\users\\pallvi saini\\.conda\\envs\\testingopenai\\lib\\site-packages (from torch->bitsandbytes) (2024.12.0)\n",
      "Requirement already satisfied: sympy==1.13.1 in c:\\users\\pallvi saini\\.conda\\envs\\testingopenai\\lib\\site-packages (from torch->bitsandbytes) (1.13.1)\n",
      "Requirement already satisfied: mpmath<1.4,>=1.1.0 in c:\\users\\pallvi saini\\.conda\\envs\\testingopenai\\lib\\site-packages (from sympy==1.13.1->torch->bitsandbytes) (1.3.0)\n",
      "Requirement already satisfied: MarkupSafe>=2.0 in c:\\users\\pallvi saini\\.conda\\envs\\testingopenai\\lib\\site-packages (from jinja2->torch->bitsandbytes) (3.0.2)\n"
     ]
    }
   ],
   "source": [
    "!pip install huggingface_hub\n",
    "!pip install transformers\n",
    "!pip install accelerate\n",
    "!pip install bitsandbytes"
   ]
  },
  {
   "cell_type": "code",
   "execution_count": 2,
   "id": "5d5674a6-c22c-471e-ae21-b69af3158d26",
   "metadata": {},
   "outputs": [],
   "source": [
    "from langchain import PromptTemplate,HuggingFaceHub,LLMChain"
   ]
  },
  {
   "cell_type": "code",
   "execution_count": null,
   "id": "81863edf-8bf3-4151-b609-e46c636852ac",
   "metadata": {},
   "outputs": [],
   "source": [
    "import os\n",
    "os.environ['HUGGINGFACEHUB_API_TOKEN'] = \"xxxxxxxxxxxx\""
   ]
  },
  {
   "cell_type": "markdown",
   "id": "ec3c1c3a-1f0e-4699-bf23-b7530abdd666",
   "metadata": {},
   "source": [
    "### text 2 text generation Models|seq2seq Models| Encoder-Decoder Models\n"
   ]
  },
  {
   "cell_type": "code",
   "execution_count": 6,
   "id": "679bf068-ae9c-4f80-906d-e98f4419799c",
   "metadata": {},
   "outputs": [],
   "source": [
    "prompt = PromptTemplate(\n",
    "    input_variables = [\"product\"],\n",
    "    template = \"what is a good name for a company that make {product}\"\n",
    ")"
   ]
  },
  {
   "cell_type": "code",
   "execution_count": 7,
   "id": "38bb74e0-52fa-4e75-a8f0-d8b6a35a50c1",
   "metadata": {},
   "outputs": [
    {
     "name": "stderr",
     "output_type": "stream",
     "text": [
      "C:\\Users\\Pallvi Saini\\AppData\\Local\\Temp\\ipykernel_20608\\3148290491.py:1: LangChainDeprecationWarning: The class `LLMChain` was deprecated in LangChain 0.1.17 and will be removed in 1.0. Use :meth:`~RunnableSequence, e.g., `prompt | llm`` instead.\n",
      "  chain = LLMChain(llm=HuggingFaceHub(repo_id ='google/flan-t5-large',model_kwargs = {'temperature':0,'max_length':64}),prompt = prompt)\n"
     ]
    }
   ],
   "source": [
    "chain = LLMChain(llm=HuggingFaceHub(repo_id ='google/flan-t5-large',model_kwargs = {'temperature':0,'max_length':64}),prompt = prompt)"
   ]
  },
  {
   "cell_type": "code",
   "execution_count": 8,
   "id": "5cd49ecf-19fb-448c-aa94-812a73d5ea01",
   "metadata": {},
   "outputs": [
    {
     "name": "stderr",
     "output_type": "stream",
     "text": [
      "C:\\Users\\Pallvi Saini\\AppData\\Local\\Temp\\ipykernel_20608\\1226663274.py:1: LangChainDeprecationWarning: The method `Chain.run` was deprecated in langchain 0.1.0 and will be removed in 1.0. Use :meth:`~invoke` instead.\n",
      "  chain.run(\"camera\")\n"
     ]
    },
    {
     "data": {
      "text/plain": [
       "'Canon'"
      ]
     },
     "execution_count": 8,
     "metadata": {},
     "output_type": "execute_result"
    }
   ],
   "source": [
    "chain.run(\"camera\")"
   ]
  },
  {
   "cell_type": "code",
   "execution_count": 9,
   "id": "5e6ef2d0-e73b-43c1-a20a-2548b3aa3263",
   "metadata": {},
   "outputs": [
    {
     "data": {
      "text/plain": [
       "'Colorful'"
      ]
     },
     "execution_count": 9,
     "metadata": {},
     "output_type": "execute_result"
    }
   ],
   "source": [
    "chain.run(\"colorful clothes\")"
   ]
  },
  {
   "cell_type": "code",
   "execution_count": 10,
   "id": "e9c0f196-85b0-45c3-be75-6e16575eb4c2",
   "metadata": {},
   "outputs": [
    {
     "data": {
      "text/plain": [
       "'Rolex'"
      ]
     },
     "execution_count": 10,
     "metadata": {},
     "output_type": "execute_result"
    }
   ],
   "source": [
    "chain.run(\"watch\")"
   ]
  },
  {
   "cell_type": "code",
   "execution_count": 11,
   "id": "ac32dd2d-2241-458f-a382-4aedcec458e8",
   "metadata": {},
   "outputs": [],
   "source": [
    "chain2 = LLMChain(llm=HuggingFaceHub(repo_id ='facebook/mbart-large-50',model_kwargs = {'temperature':0.5}),prompt = prompt)"
   ]
  },
  {
   "cell_type": "code",
   "execution_count": 12,
   "id": "634e977a-ae1d-401c-a54a-1580c806e00f",
   "metadata": {},
   "outputs": [
    {
     "data": {
      "text/plain": [
       "'what is a good name for a company that make mobile'"
      ]
     },
     "execution_count": 12,
     "metadata": {},
     "output_type": "execute_result"
    }
   ],
   "source": [
    "chain2.run(\"mobile\")"
   ]
  },
  {
   "cell_type": "code",
   "execution_count": 15,
   "id": "3a39cb5d-c615-437c-97ce-63010deeef20",
   "metadata": {},
   "outputs": [],
   "source": [
    "from langchain.llms import HuggingFacePipeline\n",
    "import torch\n",
    "from transformers import AutoTokenizer,AutoModelForCausalLM,pipeline,AutoModelForSeq2SeqLM"
   ]
  },
  {
   "cell_type": "code",
   "execution_count": 16,
   "id": "5386a3a6-6d06-4fa7-a5e3-5df6394dbd6f",
   "metadata": {},
   "outputs": [],
   "source": [
    "prompt = PromptTemplate(\n",
    "    input_variables =[\"name\"],\n",
    "    template = \"can you tell me about footballer{name}\"\n",
    ")"
   ]
  },
  {
   "cell_type": "code",
   "execution_count": 17,
   "id": "4c94586e-9527-4ad1-bc3e-ab8cc6c9ec94",
   "metadata": {},
   "outputs": [],
   "source": [
    "model_id = 'google/flan-t5-large'"
   ]
  },
  {
   "cell_type": "code",
   "execution_count": 18,
   "id": "aa43d9a1-ccb6-4253-b327-61b98760c5c0",
   "metadata": {},
   "outputs": [
    {
     "data": {
      "application/vnd.jupyter.widget-view+json": {
       "model_id": "7daeacd518a047399585d8bc8468a201",
       "version_major": 2,
       "version_minor": 0
      },
      "text/plain": [
       "tokenizer_config.json:   0%|          | 0.00/2.54k [00:00<?, ?B/s]"
      ]
     },
     "metadata": {},
     "output_type": "display_data"
    },
    {
     "name": "stderr",
     "output_type": "stream",
     "text": [
      "C:\\Users\\Pallvi Saini\\.conda\\envs\\testingopenai\\lib\\site-packages\\huggingface_hub\\file_download.py:140: UserWarning: `huggingface_hub` cache-system uses symlinks by default to efficiently store duplicated files but your machine does not support them in C:\\Users\\Pallvi Saini\\.cache\\huggingface\\hub\\models--google--flan-t5-large. Caching files will still work but in a degraded version that might require more space on your disk. This warning can be disabled by setting the `HF_HUB_DISABLE_SYMLINKS_WARNING` environment variable. For more details, see https://huggingface.co/docs/huggingface_hub/how-to-cache#limitations.\n",
      "To support symlinks on Windows, you either need to activate Developer Mode or to run Python as an administrator. In order to activate developer mode, see this article: https://docs.microsoft.com/en-us/windows/apps/get-started/enable-your-device-for-development\n",
      "  warnings.warn(message)\n"
     ]
    },
    {
     "data": {
      "application/vnd.jupyter.widget-view+json": {
       "model_id": "2cdf43f4cccf46adab4c7e10daabad14",
       "version_major": 2,
       "version_minor": 0
      },
      "text/plain": [
       "spiece.model:   0%|          | 0.00/792k [00:00<?, ?B/s]"
      ]
     },
     "metadata": {},
     "output_type": "display_data"
    },
    {
     "data": {
      "application/vnd.jupyter.widget-view+json": {
       "model_id": "1569f47804a845a38c38343add009ff1",
       "version_major": 2,
       "version_minor": 0
      },
      "text/plain": [
       "tokenizer.json:   0%|          | 0.00/2.42M [00:00<?, ?B/s]"
      ]
     },
     "metadata": {},
     "output_type": "display_data"
    },
    {
     "data": {
      "application/vnd.jupyter.widget-view+json": {
       "model_id": "9b757ca114bc4812b2f086a91690f6b4",
       "version_major": 2,
       "version_minor": 0
      },
      "text/plain": [
       "special_tokens_map.json:   0%|          | 0.00/2.20k [00:00<?, ?B/s]"
      ]
     },
     "metadata": {},
     "output_type": "display_data"
    }
   ],
   "source": [
    "tokenizer =AutoTokenizer.from_pretrained(model_id)"
   ]
  },
  {
   "cell_type": "code",
   "execution_count": 20,
   "id": "0c5d9644-2f32-462e-8080-e39f2b75c0d0",
   "metadata": {},
   "outputs": [
    {
     "data": {
      "application/vnd.jupyter.widget-view+json": {
       "model_id": "0509ffa6a9334e2ba5b7812b3657c4a6",
       "version_major": 2,
       "version_minor": 0
      },
      "text/plain": [
       "model.safetensors:  11%|#1        | 357M/3.13G [00:00<?, ?B/s]"
      ]
     },
     "metadata": {},
     "output_type": "display_data"
    },
    {
     "data": {
      "application/vnd.jupyter.widget-view+json": {
       "model_id": "dabaef5c5a3f417fa6c1e443f59e6bad",
       "version_major": 2,
       "version_minor": 0
      },
      "text/plain": [
       "generation_config.json:   0%|          | 0.00/147 [00:00<?, ?B/s]"
      ]
     },
     "metadata": {},
     "output_type": "display_data"
    }
   ],
   "source": [
    "model = AutoModelForSeq2SeqLM.from_pretrained(model_id,device_map='auto')"
   ]
  },
  {
   "cell_type": "code",
   "execution_count": 23,
   "id": "3b901b9a-297a-435d-a5e0-313a091f42cf",
   "metadata": {},
   "outputs": [
    {
     "name": "stderr",
     "output_type": "stream",
     "text": [
      "Device set to use cpu\n"
     ]
    }
   ],
   "source": [
    "pipeline = pipeline(\"text2text-generation\", model=model, tokenizer=tokenizer, max_length=128)\n"
   ]
  },
  {
   "cell_type": "code",
   "execution_count": 24,
   "id": "90727fea-63d1-406c-9d42-82fe25871148",
   "metadata": {},
   "outputs": [
    {
     "name": "stderr",
     "output_type": "stream",
     "text": [
      "C:\\Users\\Pallvi Saini\\AppData\\Local\\Temp\\ipykernel_20608\\531024422.py:1: LangChainDeprecationWarning: The class `HuggingFacePipeline` was deprecated in LangChain 0.0.37 and will be removed in 1.0. An updated version of the class exists in the :class:`~langchain-huggingface package and should be used instead. To use it run `pip install -U :class:`~langchain-huggingface` and import as `from :class:`~langchain_huggingface import HuggingFacePipeline``.\n",
      "  local_llm = HuggingFacePipeline(pipeline = pipeline)\n"
     ]
    }
   ],
   "source": [
    "local_llm = HuggingFacePipeline(pipeline = pipeline)"
   ]
  },
  {
   "cell_type": "code",
   "execution_count": 25,
   "id": "c6bfc298-84f1-4a6f-b9c8-050a47a4c8ee",
   "metadata": {},
   "outputs": [],
   "source": [
    "prompt = PromptTemplate(\n",
    "    input_variables =[\"name\"],\n",
    "    template = \"can you tell me about footballer{name}\"\n",
    ")"
   ]
  },
  {
   "cell_type": "code",
   "execution_count": 26,
   "id": "9cdf3a20-92fe-427d-8b1f-26c206d0eb53",
   "metadata": {},
   "outputs": [],
   "source": [
    "chain = LLMChain(llm = local_llm,prompt = prompt)"
   ]
  },
  {
   "cell_type": "code",
   "execution_count": 27,
   "id": "787daf0a-1f3c-4bae-b232-91ca1ceed9ca",
   "metadata": {},
   "outputs": [
    {
     "data": {
      "text/plain": [
       "'Footballermessi is a footballer who plays for the Italian club Juventus.'"
      ]
     },
     "execution_count": 27,
     "metadata": {},
     "output_type": "execute_result"
    }
   ],
   "source": [
    "chain.run(\"messi\")"
   ]
  },
  {
   "cell_type": "code",
   "execution_count": 28,
   "id": "c14e9550-07f8-488f-9079-28d8bb76cc87",
   "metadata": {},
   "outputs": [
    {
     "data": {
      "text/plain": [
       "'Sunil Chetri'"
      ]
     },
     "execution_count": 28,
     "metadata": {},
     "output_type": "execute_result"
    }
   ],
   "source": [
    "chain.run(\"sunil chetri\")"
   ]
  },
  {
   "cell_type": "code",
   "execution_count": 29,
   "id": "00319a7b-ec8e-4180-bc24-e62c5fd08768",
   "metadata": {},
   "outputs": [
    {
     "data": {
      "text/plain": [
       "'Virat Kholi'"
      ]
     },
     "execution_count": 29,
     "metadata": {},
     "output_type": "execute_result"
    }
   ],
   "source": [
    "chain.run(\"virat kholi\")"
   ]
  },
  {
   "cell_type": "code",
   "execution_count": 30,
   "id": "d504d76e-6def-46dc-afa4-50977382d9bf",
   "metadata": {},
   "outputs": [],
   "source": [
    "prompt = PromptTemplate(\n",
    "    input_variables =[\"name\"],\n",
    "    template = \"can you tell me about crickter {name}\"\n",
    ")"
   ]
  },
  {
   "cell_type": "code",
   "execution_count": 31,
   "id": "4a923933-3b99-4d31-804c-3b9d7c3a4af6",
   "metadata": {},
   "outputs": [],
   "source": [
    "chain2 = LLMChain(llm = local_llm,prompt = prompt)"
   ]
  },
  {
   "cell_type": "code",
   "execution_count": 32,
   "id": "dbfdf2eb-aff2-4f97-960f-5eceaf5a9562",
   "metadata": {},
   "outputs": [
    {
     "data": {
      "text/plain": [
       "'Crickter Virat Kholi is a village in the district of Bhagalpur, Uttar Pradesh, India.'"
      ]
     },
     "execution_count": 32,
     "metadata": {},
     "output_type": "execute_result"
    }
   ],
   "source": [
    "chain2.run(\"virat kholi\")"
   ]
  },
  {
   "cell_type": "code",
   "execution_count": null,
   "id": "7bbdc819-6c26-41b6-b317-5d0f62c18eff",
   "metadata": {},
   "outputs": [],
   "source": []
  }
 ],
 "metadata": {
  "kernelspec": {
   "display_name": "Python 3 (ipykernel)",
   "language": "python",
   "name": "python3"
  },
  "language_info": {
   "codemirror_mode": {
    "name": "ipython",
    "version": 3
   },
   "file_extension": ".py",
   "mimetype": "text/x-python",
   "name": "python",
   "nbconvert_exporter": "python",
   "pygments_lexer": "ipython3",
   "version": "3.10.9"
  }
 },
 "nbformat": 4,
 "nbformat_minor": 5
}
